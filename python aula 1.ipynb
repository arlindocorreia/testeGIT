{
  "nbformat": 4,
  "nbformat_minor": 0,
  "metadata": {
    "colab": {
      "name": "Untitled",
      "provenance": [],
      "collapsed_sections": [],
      "authorship_tag": "ABX9TyPtTNN14gvBKar+5KRo7fTw",
      "include_colab_link": true
    },
    "kernelspec": {
      "name": "python3",
      "display_name": "Python 3"
    }
  },
  "cells": [
    {
      "cell_type": "markdown",
      "metadata": {
        "id": "view-in-github",
        "colab_type": "text"
      },
      "source": [
        "<a href=\"https://colab.research.google.com/github/arlindocorreia/testeGIT/blob/master/python%20aula%201.ipynb\" target=\"_parent\"><img src=\"https://colab.research.google.com/assets/colab-badge.svg\" alt=\"Open In Colab\"/></a>"
      ]
    },
    {
      "cell_type": "code",
      "metadata": {
        "id": "y9NQs9ja34a0",
        "colab_type": "code",
        "outputId": "cd0cb408-18c4-4cf1-d235-6280300e1450",
        "colab": {
          "base_uri": "https://localhost:8080/",
          "height": 54
        }
      },
      "source": [
        "nome = input(\"qual é o seu nome: \")\n",
        "print(f\"Hello! {nome}\")"
      ],
      "execution_count": 0,
      "outputs": [
        {
          "output_type": "stream",
          "text": [
            "qual é o seu nome: Arlindo\n",
            "Hello! Arlindo\n"
          ],
          "name": "stdout"
        }
      ]
    },
    {
      "cell_type": "code",
      "metadata": {
        "id": "MWF2XNHpVaC7",
        "colab_type": "code",
        "outputId": "4e5d2aef-e6a7-4198-ee37-5c2c041a11a8",
        "colab": {
          "base_uri": "https://localhost:8080/",
          "height": 35
        }
      },
      "source": [
        "1 + 1\n"
      ],
      "execution_count": 0,
      "outputs": [
        {
          "output_type": "execute_result",
          "data": {
            "text/plain": [
              "2"
            ]
          },
          "metadata": {
            "tags": []
          },
          "execution_count": 2
        }
      ]
    },
    {
      "cell_type": "code",
      "metadata": {
        "id": "NCZAjgygVdDx",
        "colab_type": "code",
        "outputId": "76e5199f-dae1-4d55-8fa8-bbf54a24a5ec",
        "colab": {
          "base_uri": "https://localhost:8080/",
          "height": 35
        }
      },
      "source": [
        "2 - 1"
      ],
      "execution_count": 0,
      "outputs": [
        {
          "output_type": "execute_result",
          "data": {
            "text/plain": [
              "1"
            ]
          },
          "metadata": {
            "tags": []
          },
          "execution_count": 3
        }
      ]
    },
    {
      "cell_type": "code",
      "metadata": {
        "id": "AuXgmeurVgfA",
        "colab_type": "code",
        "outputId": "1e9d1ba0-ea49-4b5d-b73b-0ec6ff57f2b5",
        "colab": {
          "base_uri": "https://localhost:8080/",
          "height": 35
        }
      },
      "source": [
        "1 * 10"
      ],
      "execution_count": 0,
      "outputs": [
        {
          "output_type": "execute_result",
          "data": {
            "text/plain": [
              "10"
            ]
          },
          "metadata": {
            "tags": []
          },
          "execution_count": 4
        }
      ]
    },
    {
      "cell_type": "code",
      "metadata": {
        "id": "5xs3JSh4Vnxv",
        "colab_type": "code",
        "outputId": "5a12c54c-e0a6-42a9-be87-77425f614de2",
        "colab": {
          "base_uri": "https://localhost:8080/",
          "height": 35
        }
      },
      "source": [
        "100/3"
      ],
      "execution_count": 0,
      "outputs": [
        {
          "output_type": "execute_result",
          "data": {
            "text/plain": [
              "33.333333333333336"
            ]
          },
          "metadata": {
            "tags": []
          },
          "execution_count": 5
        }
      ]
    },
    {
      "cell_type": "code",
      "metadata": {
        "id": "4nICuBM7Vq6y",
        "colab_type": "code",
        "outputId": "2801264a-33e5-4a91-daad-6ec0d4e5c1ee",
        "colab": {
          "base_uri": "https://localhost:8080/",
          "height": 35
        }
      },
      "source": [
        "100 % 3\n"
      ],
      "execution_count": 0,
      "outputs": [
        {
          "output_type": "execute_result",
          "data": {
            "text/plain": [
              "1"
            ]
          },
          "metadata": {
            "tags": []
          },
          "execution_count": 6
        }
      ]
    },
    {
      "cell_type": "code",
      "metadata": {
        "id": "UtHrCVj_V4pB",
        "colab_type": "code",
        "outputId": "59acda94-5623-44bb-b2bc-60f734bdc6ee",
        "colab": {
          "base_uri": "https://localhost:8080/",
          "height": 35
        }
      },
      "source": [
        "4**2"
      ],
      "execution_count": 0,
      "outputs": [
        {
          "output_type": "execute_result",
          "data": {
            "text/plain": [
              "16"
            ]
          },
          "metadata": {
            "tags": []
          },
          "execution_count": 7
        }
      ]
    },
    {
      "cell_type": "code",
      "metadata": {
        "id": "-rOxF0VlWI7H",
        "colab_type": "code",
        "outputId": "8018cfdc-2746-4050-b287-2a43db7829c5",
        "colab": {
          "base_uri": "https://localhost:8080/",
          "height": 90
        }
      },
      "source": [
        "nome = input(\"qual é o seu nome: \")\n",
        "altura = float(input(\"qual a sua altura: \"))\n",
        "p = (72.7*altura) - 58\n",
        "print(f\"O peso de {nome} é \")\n",
        "print(f\" {p} Kg \")\n"
      ],
      "execution_count": 0,
      "outputs": [
        {
          "output_type": "stream",
          "text": [
            "qual é o seu nome: Arlindo Correia\n",
            "qual a sua altura: 1.70\n",
            "O peso de Arlindo Correia é \n",
            " 65.59 Kg \n"
          ],
          "name": "stdout"
        }
      ]
    },
    {
      "cell_type": "code",
      "metadata": {
        "id": "7o7cbOOsetJ8",
        "colab_type": "code",
        "outputId": "3076627a-8b12-4f73-a07e-3be8027c6e4c",
        "colab": {
          "base_uri": "https://localhost:8080/",
          "height": 35
        }
      },
      "source": [
        "if 100 > 99:\n",
        "  print(\"100 é maior q 99\")\n"
      ],
      "execution_count": 0,
      "outputs": [
        {
          "output_type": "stream",
          "text": [
            "100 é maior q 99\n"
          ],
          "name": "stdout"
        }
      ]
    },
    {
      "cell_type": "code",
      "metadata": {
        "id": "u_3GHI87fkkp",
        "colab_type": "code",
        "outputId": "41ceac25-ca76-49ce-f370-57eabe755bfd",
        "colab": {
          "base_uri": "https://localhost:8080/",
          "height": 35
        }
      },
      "source": [
        "if 100 == 99:\n",
        "  print(\" 100 é igual a 99\")\n",
        "else:\n",
        "  print(\" não 100 é igual a 99\")\n",
        "\n"
      ],
      "execution_count": 0,
      "outputs": [
        {
          "output_type": "stream",
          "text": [
            " não 100 é igual a 99\n"
          ],
          "name": "stdout"
        }
      ]
    },
    {
      "cell_type": "code",
      "metadata": {
        "id": "jZQpRHyygXGn",
        "colab_type": "code",
        "outputId": "4012d50c-f152-4686-9249-7b0f14100b01",
        "colab": {
          "base_uri": "https://localhost:8080/",
          "height": 35
        }
      },
      "source": [
        "if 100 == 99:\n",
        "  print(\" 100 é igual a 99\")\n",
        "elif 100 > 99:\n",
        "  print(\" 100 é maior 99\")\n",
        "else:\n",
        "  print(\" 100 é meno 99\")"
      ],
      "execution_count": 0,
      "outputs": [
        {
          "output_type": "stream",
          "text": [
            " 100 é maior 99\n"
          ],
          "name": "stdout"
        }
      ]
    },
    {
      "cell_type": "code",
      "metadata": {
        "id": "xlPyhiyohJk1",
        "colab_type": "code",
        "outputId": "0b7fbfc6-b711-4fcd-a33a-c3e985504ece",
        "colab": {
          "base_uri": "https://localhost:8080/",
          "height": 72
        }
      },
      "source": [
        "nome = input(\"qual é o seu nome: \")\n",
        "turno = input(\"qual turno vc estuda (M)-Manutino, (V)-Vespertino, (N)-Noturno?: \")\n",
        "p = turno\n",
        "if p == \"M\":\n",
        "  print(f\" {nome} Bom dia!\")\n",
        "elif p == \"V\":\n",
        "  print(f\" {nome} Boa tarde!\")\n",
        "else:\n",
        "  print(f\" {nome} Boa Noite!\")"
      ],
      "execution_count": 0,
      "outputs": [
        {
          "output_type": "stream",
          "text": [
            "qual é o seu nome: Arlindo\n",
            "qual turno vc estuda (M)-Manutino, (V)-Vespertino, (N)-Noturno?: M\n",
            " Arlindo Bom dia!\n"
          ],
          "name": "stdout"
        }
      ]
    },
    {
      "cell_type": "code",
      "metadata": {
        "id": "V1IOjBiIje2U",
        "colab_type": "code",
        "outputId": "f589631d-704f-4b9e-f772-d1a64a9efc60",
        "colab": {
          "base_uri": "https://localhost:8080/",
          "height": 109
        }
      },
      "source": [
        "for x in range(0,10,2):\n",
        "  print(x)"
      ],
      "execution_count": 0,
      "outputs": [
        {
          "output_type": "stream",
          "text": [
            "0\n",
            "2\n",
            "4\n",
            "6\n",
            "8\n"
          ],
          "name": "stdout"
        }
      ]
    },
    {
      "cell_type": "code",
      "metadata": {
        "id": "O-eNCUSykSNC",
        "colab_type": "code",
        "outputId": "bcf750cb-87e7-499c-897c-11564423a61b",
        "colab": {
          "base_uri": "https://localhost:8080/",
          "height": 146
        }
      },
      "source": [
        "palavra = \"PALAVRA\"\n",
        "for letra in palavra:\n",
        "  print(letra)"
      ],
      "execution_count": 0,
      "outputs": [
        {
          "output_type": "stream",
          "text": [
            "P\n",
            "A\n",
            "L\n",
            "A\n",
            "V\n",
            "R\n",
            "A\n"
          ],
          "name": "stdout"
        }
      ]
    },
    {
      "cell_type": "code",
      "metadata": {
        "id": "8cSXZZQFk0UP",
        "colab_type": "code",
        "outputId": "bad550de-94ca-4b3e-d118-cac183c5201b",
        "colab": {
          "base_uri": "https://localhost:8080/",
          "height": 109
        }
      },
      "source": [
        "num = 0\n",
        "while num < 5:\n",
        "  print(num)\n",
        "  num = num + 1"
      ],
      "execution_count": 0,
      "outputs": [
        {
          "output_type": "stream",
          "text": [
            "0\n",
            "1\n",
            "2\n",
            "3\n",
            "4\n"
          ],
          "name": "stdout"
        }
      ]
    },
    {
      "cell_type": "code",
      "metadata": {
        "id": "isTbNEhFlkUm",
        "colab_type": "code",
        "colab": {}
      },
      "source": [
        "num = 0 # loop infinito\n",
        "while True:\n",
        "  print(num)\n",
        "  num = num + 1"
      ],
      "execution_count": 0,
      "outputs": []
    },
    {
      "cell_type": "code",
      "metadata": {
        "id": "AEIVhw4G5mEU",
        "colab_type": "code",
        "colab": {
          "base_uri": "https://localhost:8080/",
          "height": 182
        },
        "outputId": "c70131e9-c8e7-418e-dd31-4952b8b4cd9a"
      },
      "source": [
        "fib = float(input(\"Entre com o numero de Fibonacci :\"))\n",
        "Ante = 1\n",
        "Post = 1\n",
        "Cont = 1\n",
        "print(Ante)\n",
        "print(Post)\n",
        "while Cont < fib:\n",
        "\n",
        "    Ante = Post\n",
        "    Post = Cont\n",
        "    Cont = Ante + Post\n",
        "    print(Cont)\n",
        " \n"
      ],
      "execution_count": 6,
      "outputs": [
        {
          "output_type": "stream",
          "text": [
            "Entre com o numero de Fibonacci :21\n",
            "1\n",
            "1\n",
            "2\n",
            "3\n",
            "5\n",
            "8\n",
            "13\n",
            "21\n"
          ],
          "name": "stdout"
        }
      ]
    },
    {
      "cell_type": "code",
      "metadata": {
        "id": "rFwq--qZ8ZZi",
        "colab_type": "code",
        "colab": {
          "base_uri": "https://localhost:8080/",
          "height": 35
        },
        "outputId": "33be0594-a5ef-477a-b583-7bdde76f5efa"
      },
      "source": [
        "palavra = \"PALAVRA\"\n",
        "#dir(palavra)\n",
        "palavra.lower()"
      ],
      "execution_count": 9,
      "outputs": [
        {
          "output_type": "execute_result",
          "data": {
            "text/plain": [
              "'palavra'"
            ]
          },
          "metadata": {
            "tags": []
          },
          "execution_count": 9
        }
      ]
    },
    {
      "cell_type": "code",
      "metadata": {
        "id": "hbiWX6z89b2O",
        "colab_type": "code",
        "colab": {
          "base_uri": "https://localhost:8080/",
          "height": 191
        },
        "outputId": "9be9d676-f4eb-4414-d506-fe9b96d40477"
      },
      "source": [
        "palavra = \"PALAVRA\"\n",
        "help(str.upper())\n"
      ],
      "execution_count": 30,
      "outputs": [
        {
          "output_type": "error",
          "ename": "TypeError",
          "evalue": "ignored",
          "traceback": [
            "\u001b[0;31m---------------------------------------------------------------------------\u001b[0m",
            "\u001b[0;31mTypeError\u001b[0m                                 Traceback (most recent call last)",
            "\u001b[0;32m<ipython-input-30-4b12b47d44de>\u001b[0m in \u001b[0;36m<module>\u001b[0;34m()\u001b[0m\n\u001b[1;32m      1\u001b[0m \u001b[0mpalavra\u001b[0m \u001b[0;34m=\u001b[0m \u001b[0;34m\"PALAVRA\"\u001b[0m\u001b[0;34m\u001b[0m\u001b[0;34m\u001b[0m\u001b[0m\n\u001b[0;32m----> 2\u001b[0;31m \u001b[0mhelp\u001b[0m\u001b[0;34m(\u001b[0m\u001b[0mstr\u001b[0m\u001b[0;34m.\u001b[0m\u001b[0mupper\u001b[0m\u001b[0;34m(\u001b[0m\u001b[0;34m)\u001b[0m\u001b[0;34m)\u001b[0m\u001b[0;34m\u001b[0m\u001b[0;34m\u001b[0m\u001b[0m\n\u001b[0m",
            "\u001b[0;31mTypeError\u001b[0m: descriptor 'upper' of 'str' object needs an argument"
          ]
        }
      ]
    },
    {
      "cell_type": "code",
      "metadata": {
        "id": "vVVBibWgCttW",
        "colab_type": "code",
        "colab": {}
      },
      "source": [
        "def raizquadrada(x):\n",
        "  return x**2"
      ],
      "execution_count": 0,
      "outputs": []
    },
    {
      "cell_type": "code",
      "metadata": {
        "id": "3rJPjLojl-Jx",
        "colab_type": "code",
        "colab": {
          "base_uri": "https://localhost:8080/",
          "height": 35
        },
        "outputId": "27ab19c4-6733-4ee6-a103-2424153a9667"
      },
      "source": [
        "raizquadrada(4)"
      ],
      "execution_count": 33,
      "outputs": [
        {
          "output_type": "execute_result",
          "data": {
            "text/plain": [
              "16"
            ]
          },
          "metadata": {
            "tags": []
          },
          "execution_count": 33
        }
      ]
    },
    {
      "cell_type": "code",
      "metadata": {
        "id": "9qcqUgZ8gJIJ",
        "colab_type": "code",
        "colab": {}
      },
      "source": [
        "def nreverso(n,nInv = 0):\n",
        "  while n > 0:\n",
        "    resto = n % 10\n",
        "    n = n // 10\n",
        "    nInv = nInv * 10 + resto\n",
        "  print(nInv)"
      ],
      "execution_count": 0,
      "outputs": []
    },
    {
      "cell_type": "code",
      "metadata": {
        "id": "3hCcQfpXEtfO",
        "colab_type": "code",
        "colab": {
          "base_uri": "https://localhost:8080/",
          "height": 35
        },
        "outputId": "c91b8810-0931-4495-ad5f-23e9d3baf860"
      },
      "source": [
        "nreverso(202)"
      ],
      "execution_count": 43,
      "outputs": [
        {
          "output_type": "stream",
          "text": [
            "202\n"
          ],
          "name": "stdout"
        }
      ]
    }
  ]
}